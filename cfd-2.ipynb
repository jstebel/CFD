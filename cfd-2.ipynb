{
 "cells": [
  {
   "cell_type": "markdown",
   "id": "9489db95-2f46-4c4a-a81d-3d99c046fd90",
   "metadata": {},
   "source": [
    "$$\n",
    "\\def\\nn{\\vc n}\n",
    "\\def\\vc#1{\\mathbf{#1}}\n",
    "\\def\\vv{\\vc v}\n",
    "\\def\\xx{\\vc x}\n",
    "$$\n",
    "# NTI/CFD Cvičení 2\n",
    "## Advekční rovnice\n",
    "Advekční rovnice\n",
    "$$ \\partial_t \\Phi + \\nabla\\cdot(\\vv \\Phi) = f $$\n",
    "popisuje transport veličiny $\\Phi$ proudovým polem $\\vv $.\n",
    "Příkladem je bilance hmoty, kde $\\Phi=\\varrho$ a $f=0$.\n",
    "\n",
    "## Úloha 1\n",
    "Jednorozměrnou trubicí $(-L,L)$ proudí znečištěná voda konstantní rychlostí $V$ [$m/s$].\n",
    "V čase $t=0$ je koncentrace znečištění dána funkcí $\\Phi_0(x)$ [$kg/m$], na vstupu ($x=-L$) vtéká čistá voda.\n",
    "Objemový zdroj znečištění je $f=0$.\n",
    "* Ukažte, že řešením advekční rovnice je \"cestující vlna\", tj. funkce\n",
    "$$ \\Phi(t,x)=\\begin{cases}\\Phi_0(x-Vt) & \\mbox{pokud }-L\\le x-Vt x\\le L,\\\\0 & \\mbox{jinak}.\\end{cases} $$"
   ]
  },
  {
   "cell_type": "markdown",
   "id": "27c8f703-4ccd-40e4-ba36-d996cc8356f1",
   "metadata": {},
   "source": [
    "Vaše odpověď:\n",
    "$$ \\frac{\\partial\\Phi}{\\partial t} = $$\n",
    "$$ \\nabla\\cdot(\\vv\\Phi) = $$"
   ]
  },
  {
   "cell_type": "markdown",
   "id": "67800f36-c8a6-4301-85c3-de618d20086d",
   "metadata": {},
   "source": [
    "* V čem se bude řešení lišit od reálného experimentu?"
   ]
  },
  {
   "cell_type": "raw",
   "id": "5b6f18b0-d05e-4b90-9a95-82a9c5475b29",
   "metadata": {},
   "source": [
    "Vaše odpověď."
   ]
  },
  {
   "cell_type": "markdown",
   "id": "10389325-cbc4-4953-a6f5-7e84ca313152",
   "metadata": {},
   "source": [
    "* Pro konkrétní parametry $L=5$, $V=2$ a $\\Phi_0(x)=\\frac1{1+x^2}$ nakreslete průběh koncentrace v trubce v časech $0$, $0.5$ a $2.5$."
   ]
  },
  {
   "cell_type": "code",
   "execution_count": 1,
   "id": "5322275c-140f-45ce-980b-ca7ee8f60379",
   "metadata": {},
   "outputs": [
    {
     "data": {
      "image/png": "[encoded data removed]",
      "text/plain": [
       "<Figure size 640x480 with 1 Axes>"
      ]
     },
     "metadata": {},
     "output_type": "display_data"
    }
   ],
   "source": [
    "from matplotlib import pyplot as plt\n",
    "import numpy as np\n",
    "\n",
    "# rychlost\n",
    "V = 2\n",
    "# polovina delky trubky\n",
    "L = 5\n",
    "# analyticke reseni - upravte...\n",
    "def phi(t,x):\n",
    "    return 1/(1+x*x)\n",
    "\n",
    "# upravte kod nize tak, aby vykreslil reseni v zadanych casech\n",
    "xx = np.linspace(-L,L,100)\n",
    "yy = phi(0,xx)\n",
    "plt.plot(xx,yy)\n",
    "plt.show()"
   ]
  },
  {
   "cell_type": "markdown",
   "id": "a04bb640-9f58-4392-92ab-da014e1a5a7a",
   "metadata": {},
   "source": [
    "## Úloha 2\n",
    "Řešte advekční rovnici z úlohy 1 pomocí metody konečných objemů.\n",
    "* Zvolte vhodný časový a prostorový krok $\\Delta t$, $h$. Definujte matice $\\mathbb K$, $\\mathbb M$ a vektor pravých stran $\\vc b$ podle následujících vztahů:\n",
    "$$ \\mathbb K_{ij} = \\begin{cases}-\\frac{V}{h} & \\mbox{pokud }j=i-1,\\\\\\frac{V}{h} & \\mbox{pro }i=j,\\\\0 & \\mbox{jinak},\\end{cases}\\qquad \\mathbb M = \\mathbb I-\\Delta t\\mathbb K, \\qquad \\vc b = \\vc 0. $$\n",
    "* Definujte vektor $\\vc\\Phi^0$ počátečních hodnot koncentrace $\\Phi_0$ ve středech elementů.\n",
    "* Pro každý diskrétní čas $t_k$, $k=1,2,...$ vypočítejte $\\vc\\Phi^k$ s využitím rovnice $\\vc\\Phi^{k}=\\mathbb M\\vc\\Phi^{k-1} + \\Delta t\\vc b$.\n",
    "* Vykreslete obdobně jako výše numerické řešení v časech $0$, $0.5$ a $2.5$."
   ]
  },
  {
   "cell_type": "code",
   "execution_count": null,
   "id": "994e0651-d78a-431b-bf1b-44534bff9f43",
   "metadata": {},
   "outputs": [],
   "source": [
    "# koncovy cas\n",
    "T = 2.5\n",
    "# pocet casovych intervalu a casovy krok\n",
    "nt = 100\n",
    "dt = T/nt\n",
    "\n",
    "# pocet elementu a prostorovy krok\n",
    "nx = 200\n",
    "h = 2*L/nx\n",
    "\n",
    "# doplnte...\n",
    "K = \n",
    "M = \n",
    "b = \n",
    "pp = "
   ]
  },
  {
   "cell_type": "markdown",
   "id": "901db628-2344-44a4-8dd8-68f85ea94b20",
   "metadata": {},
   "source": [
    "* Vyzkoušejte různé kombinace časového a prostorového kroku. Co lze vypozorovat? V jakých případech numerické řešení vykazuje nepřesnosti?"
   ]
  },
  {
   "cell_type": "raw",
   "id": "b5b1b103-7a5f-4f7d-b1f8-88ca8f13e648",
   "metadata": {},
   "source": [
    "Vaše odpověď."
   ]
  }
 ],
 "metadata": {
  "kernelspec": {
   "display_name": "Python 3 (ipykernel)",
   "language": "python",
   "name": "python3"
  },
  "language_info": {
   "codemirror_mode": {
    "name": "ipython",
    "version": 3
   },
   "file_extension": ".py",
   "mimetype": "text/x-python",
   "name": "python",
   "nbconvert_exporter": "python",
   "pygments_lexer": "ipython3",
   "version": "3.10.8"
  },
  "toc-showmarkdowntxt": false
 },
 "nbformat": 4,
 "nbformat_minor": 5
}
