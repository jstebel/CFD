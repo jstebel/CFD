{
 "cells": [
  {
   "cell_type": "markdown",
   "id": "313a9d45-1e3d-45e1-af84-37856652e495",
   "metadata": {},
   "source": [
    "# Metoda konečných objemů pro advekci-difúzi ve 2D\n",
    "\n",
    "## Úloha 1: Šíření exhalace\n",
    "Továrna, která leží na čtvrtcovém půdorysu o rozměrech $200\\times 200~m$, vypouští do ovzduší škodliviny v množství $1~kg/km^2/h$.\n",
    "Vypočítejte metodou konečných objemů časový průběh znečištění v okolní oblasti o rozměrech $1\\times 1~km$ v průběhu jedné hodiny. Uvažujte konstantní rychlost větru $1~km/h$ směrem na (a) východ, (b) severovýchod. Difúzi zanedbejte, počáteční koncentraci uvažujte nulovou.\n",
    "1. Zformulujte matematický model jako advekční rovnici s příslušnou počáteční a okrajovou podmínkou."
   ]
  },
  {
   "cell_type": "raw",
   "id": "c48955af-a785-488a-b814-92e940ec6506",
   "metadata": {},
   "source": [
    "Vaše odpověď: rovnice + okrajová podmínka"
   ]
  },
  {
   "cell_type": "markdown",
   "id": "e6d6b58d-200b-443b-9e77-adf3fd52dd0c",
   "metadata": {},
   "source": [
    "2. Uvažujte čtvercovou síť $nx\\times nx$ elementů o velikosti $h\\times h$, kde $h=1/nx~km$. Elementy si vhodným způsobem očíslujte. Spočítejte pro případ (a) i (b) toky skrze strany jednoho elementu."
   ]
  },
  {
   "cell_type": "raw",
   "id": "670d73ae-1f78-4283-a731-aecc3a3374c7",
   "metadata": {},
   "source": [
    "Vaše odpověď: popis číslování elementů, výpočet toků přes jednotlivé strany elementu."
   ]
  },
  {
   "cell_type": "markdown",
   "id": "42a39e3a-9e73-4fe8-af1e-6712f1bf5591",
   "metadata": {},
   "source": [
    "3. Definujte matice $\\mathbb K$, $\\mathbb M$ a vektor pravých stran $\\mathbf f$. Spočítejte hodnotu CFL podmínky podle vzorce $CFL=\\frac{\\Delta t}{2h}\\max_i\\sum_{j\\in\\mathcal N_i}|\\tau_{ij}|$."
   ]
  },
  {
   "cell_type": "code",
   "execution_count": null,
   "id": "f4f7a6dd-d28d-40a9-a709-a115deac97da",
   "metadata": {},
   "outputs": [],
   "source": [
    "from math import *\n",
    "import numpy as np\n",
    "\n",
    "# koncový čas simulace [h]\n",
    "T = 1\n",
    "# počet časových intervalů\n",
    "nt = 20\n",
    "# časový krok [h]\n",
    "dt = T/nt\n",
    "\n",
    "# Velikost čtvercové výpočetní oblasti oblasti [km]\n",
    "L = 1\n",
    "# počet elementů v jednom směru\n",
    "nx = 20\n",
    "# velikost strany čtvercového elementu [km]\n",
    "h = L/nx\n",
    "\n",
    "# úhel směru větru\n",
    "theta = 0\n",
    "\n",
    "# výpočet CFL podmínky - doplňte\n",
    "print('CFL = ', )\n",
    "\n",
    "# výpočet matice K a M - doplňte\n",
    "K = np.zeros([nx*nx,nx*nx])\n",
    "for i in range(nx*nx):\n",
    "    ...\n",
    "\n",
    "M = ...\n",
    "\n",
    "# vektor pravých stran - zdroj znečištění [kg/km^2/h]\n",
    "f = ..."
   ]
  },
  {
   "cell_type": "markdown",
   "id": "09b26784-2113-448d-ba44-d0df86e67ee7",
   "metadata": {},
   "source": [
    "4. Definujte vektor počátečních koncentrací $\\mathbf\\Phi^0$. Spočtěte koncentrace v diskrétních časech $t_k$, $k=1,...,nt$. Jaké hodnoty dosahuje maximální bodová koncentrace a v jakém místě? Ověřte volbou nx, resp. nt, zda splnění podmínky CFL<1 zaručuje stabilitu numerického řešení."
   ]
  },
  {
   "cell_type": "code",
   "execution_count": null,
   "id": "13b7931d-83f1-4be7-a3f6-6ec0c890b5ce",
   "metadata": {},
   "outputs": [],
   "source": [
    "# počáteční koncentrace [kg/km^2]\n",
    "phi = ...\n",
    "phi_time = [ phi.reshape([nx,nx]) ]\n",
    "\n",
    "# výpočet v diskrétních časech\n",
    "for i in range(nt):\n",
    "    phi = ...\n",
    "    phi_time.append( phi.reshape([nx,nx]) )\n",
    "    phi_max = ...\n",
    "\n",
    "# maximální spočtená koncentrace\n",
    "print('max = ', phi_max)"
   ]
  },
  {
   "cell_type": "markdown",
   "id": "84839c6e-df5a-4262-82cf-37d6224a8a2e",
   "metadata": {},
   "source": [
    "4. Za předpokladu, že vektory řešení jsou uložena v poli ``phi_time`` jako matice řádu $nx\\times nx$ a maximální koncentrace je dána hodnotou ``phi_max``, si můžete časový průběh řešení zobrazit pomocí následujícího kódu:"
   ]
  },
  {
   "cell_type": "code",
   "execution_count": null,
   "id": "8a372882-14db-4ce7-b574-a04aa4ecbb7f",
   "metadata": {},
   "outputs": [],
   "source": [
    "import matplotlib.pyplot as plt\n",
    "import matplotlib.animation\n",
    "\n",
    "plt.ioff()\n",
    "fig, ax = plt.subplots()\n",
    "pos = ax.imshow(phi_time[0], origin='lower', vmin=0, vmax=phi_max)\n",
    "fig.colorbar(pos)\n",
    "\n",
    "def animate(i):\n",
    "    pos = ax.imshow(phi_time[i], origin='lower', vmin=0, vmax=phi_max, extent=[0, L, 0, L])\n",
    "    ax.set_xlabel('t='+str(i*dt))\n",
    "\n",
    "ani = matplotlib.animation.FuncAnimation(fig, animate, frames=len(phi_time))\n",
    "\n",
    "from IPython.display import HTML\n",
    "HTML(ani.to_jshtml())"
   ]
  },
  {
   "cell_type": "markdown",
   "id": "a7731b21-14de-456f-813a-4bffdc6caed7",
   "metadata": {},
   "source": [
    "## Úloha 2: Stacionární advekce-difúze\n",
    "Řešte předchozí problém jako stacionární. Uvažujte také difúzi s koeficientem $\\alpha=10~m^2/s$.\n",
    "1. Upravte definici matice $\\mathbb K$ tak, aby zahrnovala difúzi."
   ]
  },
  {
   "cell_type": "code",
   "execution_count": 263,
   "id": "043c5c49-c79b-4451-b5a9-81348d70595c",
   "metadata": {},
   "outputs": [],
   "source": [
    "# difúzní koeficient [km^2/h]\n",
    "alpha = ...\n",
    "\n",
    "# počet elementů v jednom směru a jejich velikost\n",
    "nx = 50\n",
    "h = L/nx\n",
    "\n",
    "K = ...\n",
    "        \n",
    "f = ..."
   ]
  },
  {
   "cell_type": "markdown",
   "id": "0d18a442-4018-4ac8-9769-66ba311514af",
   "metadata": {},
   "source": [
    "2. Spočítejte řešení pomocí soustavy lineárních rovnic $\\mathbb K\\mathbf\\Phi=\\mathbf f$. Zjistěte maximální hodnotu koncentrace."
   ]
  },
  {
   "cell_type": "code",
   "execution_count": null,
   "id": "dd05dc5e-39e0-420c-8eaf-aeca564f5683",
   "metadata": {},
   "outputs": [],
   "source": [
    "phi = ...\n",
    "print('max = ', ...)\n",
    "\n",
    "plt.clf()\n",
    "plt.imshow(phi.reshape([nx,nx]), origin='lower', extent=[0, L, 0, L])\n",
    "plt.colorbar()\n",
    "plt.show()"
   ]
  }
 ],
 "metadata": {
  "kernelspec": {
   "display_name": "Python 3 (ipykernel)",
   "language": "python",
   "name": "python3"
  },
  "language_info": {
   "codemirror_mode": {
    "name": "ipython",
    "version": 3
   },
   "file_extension": ".py",
   "mimetype": "text/x-python",
   "name": "python",
   "nbconvert_exporter": "python",
   "pygments_lexer": "ipython3",
   "version": "3.10.8"
  }
 },
 "nbformat": 4,
 "nbformat_minor": 5
}
